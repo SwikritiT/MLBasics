{
  "nbformat": 4,
  "nbformat_minor": 0,
  "metadata": {
    "colab": {
      "name": "LinearRegression.ipynb",
      "provenance": []
    },
    "kernelspec": {
      "name": "python3",
      "display_name": "Python 3"
    }
  },
  "cells": [
    {
      "cell_type": "code",
      "metadata": {
        "id": "QjBqrX0gmu80",
        "colab_type": "code",
        "outputId": "76b4cb83-f31e-40f9-a740-cca913342a3a",
        "colab": {
          "base_uri": "https://localhost:8080/",
          "height": 71
        }
      },
      "source": [
        "import pandas as pd\n",
        "from matplotlib import pyplot as plt\n",
        "%matplotlib inline\n",
        "import seaborn as sns\n",
        "import random"
      ],
      "execution_count": 1,
      "outputs": [
        {
          "output_type": "stream",
          "text": [
            "/usr/local/lib/python3.6/dist-packages/statsmodels/tools/_testing.py:19: FutureWarning: pandas.util.testing is deprecated. Use the functions in the public API at pandas.testing instead.\n",
            "  import pandas.util.testing as tm\n"
          ],
          "name": "stderr"
        }
      ]
    },
    {
      "cell_type": "code",
      "metadata": {
        "id": "JPGPs1pkoC8b",
        "colab_type": "code",
        "colab": {}
      },
      "source": [
        "from sklearn.model_selection import train_test_split\n",
        "from sklearn.linear_model import LinearRegression"
      ],
      "execution_count": 0,
      "outputs": []
    },
    {
      "cell_type": "code",
      "metadata": {
        "id": "Gw2gZsfSod6F",
        "colab_type": "code",
        "colab": {}
      },
      "source": [
        "df=pd.read_csv(\"/content/lin_reg_educ_share.csv\")"
      ],
      "execution_count": 0,
      "outputs": []
    },
    {
      "cell_type": "code",
      "metadata": {
        "id": "4asSd2Y5PG7r",
        "colab_type": "code",
        "outputId": "9ca9c974-4291-4682-a03c-e8c684cf4e4f",
        "colab": {
          "base_uri": "https://localhost:8080/",
          "height": 241
        }
      },
      "source": [
        "df.head()"
      ],
      "execution_count": 4,
      "outputs": [
        {
          "output_type": "execute_result",
          "data": {
            "text/html": [
              "<div>\n",
              "<style scoped>\n",
              "    .dataframe tbody tr th:only-of-type {\n",
              "        vertical-align: middle;\n",
              "    }\n",
              "\n",
              "    .dataframe tbody tr th {\n",
              "        vertical-align: top;\n",
              "    }\n",
              "\n",
              "    .dataframe thead th {\n",
              "        text-align: right;\n",
              "    }\n",
              "</style>\n",
              "<table border=\"1\" class=\"dataframe\">\n",
              "  <thead>\n",
              "    <tr style=\"text-align: right;\">\n",
              "      <th></th>\n",
              "      <th>Unnamed: 0</th>\n",
              "      <th>male</th>\n",
              "      <th>literacy rate</th>\n",
              "      <th>years_educ1</th>\n",
              "      <th>years_educ2</th>\n",
              "      <th>years_educ3</th>\n",
              "      <th>years_educ4</th>\n",
              "      <th>years_educ5</th>\n",
              "      <th>years_educ6</th>\n",
              "      <th>years_educ7</th>\n",
              "      <th>years_educ8</th>\n",
              "      <th>hhsize</th>\n",
              "      <th>poverty rate</th>\n",
              "      <th>nkid06</th>\n",
              "      <th>nkid715</th>\n",
              "    </tr>\n",
              "  </thead>\n",
              "  <tbody>\n",
              "    <tr>\n",
              "      <th>0</th>\n",
              "      <td>Achham</td>\n",
              "      <td>0.461668</td>\n",
              "      <td>0.476151</td>\n",
              "      <td>0.080331</td>\n",
              "      <td>0.394979</td>\n",
              "      <td>0.224853</td>\n",
              "      <td>0.145161</td>\n",
              "      <td>0.099263</td>\n",
              "      <td>0.001059</td>\n",
              "      <td>0.050133</td>\n",
              "      <td>0.004221</td>\n",
              "      <td>6.322215</td>\n",
              "      <td>0.472</td>\n",
              "      <td>0.750000</td>\n",
              "      <td>1.166667</td>\n",
              "    </tr>\n",
              "    <tr>\n",
              "      <th>1</th>\n",
              "      <td>Arghakhanchi</td>\n",
              "      <td>0.433736</td>\n",
              "      <td>0.652446</td>\n",
              "      <td>0.039106</td>\n",
              "      <td>0.298637</td>\n",
              "      <td>0.253662</td>\n",
              "      <td>0.189621</td>\n",
              "      <td>0.157736</td>\n",
              "      <td>0.000844</td>\n",
              "      <td>0.057360</td>\n",
              "      <td>0.003033</td>\n",
              "      <td>5.179200</td>\n",
              "      <td>0.288</td>\n",
              "      <td>0.458333</td>\n",
              "      <td>1.020833</td>\n",
              "    </tr>\n",
              "    <tr>\n",
              "      <th>2</th>\n",
              "      <td>Baglung</td>\n",
              "      <td>0.438207</td>\n",
              "      <td>0.647397</td>\n",
              "      <td>0.043599</td>\n",
              "      <td>0.301124</td>\n",
              "      <td>0.239773</td>\n",
              "      <td>0.186960</td>\n",
              "      <td>0.154035</td>\n",
              "      <td>0.000375</td>\n",
              "      <td>0.070341</td>\n",
              "      <td>0.003793</td>\n",
              "      <td>5.378669</td>\n",
              "      <td>0.229</td>\n",
              "      <td>0.716667</td>\n",
              "      <td>1.083333</td>\n",
              "    </tr>\n",
              "    <tr>\n",
              "      <th>3</th>\n",
              "      <td>Baitadi</td>\n",
              "      <td>0.464469</td>\n",
              "      <td>0.548497</td>\n",
              "      <td>0.058514</td>\n",
              "      <td>0.346258</td>\n",
              "      <td>0.259600</td>\n",
              "      <td>0.186120</td>\n",
              "      <td>0.114269</td>\n",
              "      <td>0.000787</td>\n",
              "      <td>0.030814</td>\n",
              "      <td>0.003637</td>\n",
              "      <td>6.748073</td>\n",
              "      <td>0.457</td>\n",
              "      <td>1.133333</td>\n",
              "      <td>1.416667</td>\n",
              "    </tr>\n",
              "    <tr>\n",
              "      <th>4</th>\n",
              "      <td>Bajhang</td>\n",
              "      <td>0.477381</td>\n",
              "      <td>0.488333</td>\n",
              "      <td>0.073606</td>\n",
              "      <td>0.417432</td>\n",
              "      <td>0.219511</td>\n",
              "      <td>0.138940</td>\n",
              "      <td>0.112037</td>\n",
              "      <td>0.000483</td>\n",
              "      <td>0.034308</td>\n",
              "      <td>0.003682</td>\n",
              "      <td>6.945809</td>\n",
              "      <td>0.568</td>\n",
              "      <td>0.777778</td>\n",
              "      <td>1.583333</td>\n",
              "    </tr>\n",
              "  </tbody>\n",
              "</table>\n",
              "</div>"
            ],
            "text/plain": [
              "     Unnamed: 0      male  literacy rate  ...  poverty rate    nkid06   nkid715\n",
              "0        Achham  0.461668       0.476151  ...         0.472  0.750000  1.166667\n",
              "1  Arghakhanchi  0.433736       0.652446  ...         0.288  0.458333  1.020833\n",
              "2       Baglung  0.438207       0.647397  ...         0.229  0.716667  1.083333\n",
              "3       Baitadi  0.464469       0.548497  ...         0.457  1.133333  1.416667\n",
              "4       Bajhang  0.477381       0.488333  ...         0.568  0.777778  1.583333\n",
              "\n",
              "[5 rows x 15 columns]"
            ]
          },
          "metadata": {
            "tags": []
          },
          "execution_count": 4
        }
      ]
    },
    {
      "cell_type": "code",
      "metadata": {
        "id": "noR_IdWTPmuM",
        "colab_type": "code",
        "outputId": "140d5a0d-c0c8-4d20-f157-d5fa75d062aa",
        "colab": {
          "base_uri": "https://localhost:8080/",
          "height": 34
        }
      },
      "source": [
        "df.shape"
      ],
      "execution_count": 5,
      "outputs": [
        {
          "output_type": "execute_result",
          "data": {
            "text/plain": [
              "(71, 15)"
            ]
          },
          "metadata": {
            "tags": []
          },
          "execution_count": 5
        }
      ]
    },
    {
      "cell_type": "code",
      "metadata": {
        "id": "eWypBpSePwK2",
        "colab_type": "code",
        "colab": {}
      },
      "source": [
        "df.rename(columns={'Unnamed: 0':'district'},inplace=True)"
      ],
      "execution_count": 0,
      "outputs": []
    },
    {
      "cell_type": "code",
      "metadata": {
        "id": "GP0ffwO7QTNB",
        "colab_type": "code",
        "outputId": "98045b5e-2a99-49c5-9823-cbc060813d57",
        "colab": {
          "base_uri": "https://localhost:8080/",
          "height": 241
        }
      },
      "source": [
        "df.head()"
      ],
      "execution_count": 7,
      "outputs": [
        {
          "output_type": "execute_result",
          "data": {
            "text/html": [
              "<div>\n",
              "<style scoped>\n",
              "    .dataframe tbody tr th:only-of-type {\n",
              "        vertical-align: middle;\n",
              "    }\n",
              "\n",
              "    .dataframe tbody tr th {\n",
              "        vertical-align: top;\n",
              "    }\n",
              "\n",
              "    .dataframe thead th {\n",
              "        text-align: right;\n",
              "    }\n",
              "</style>\n",
              "<table border=\"1\" class=\"dataframe\">\n",
              "  <thead>\n",
              "    <tr style=\"text-align: right;\">\n",
              "      <th></th>\n",
              "      <th>district</th>\n",
              "      <th>male</th>\n",
              "      <th>literacy rate</th>\n",
              "      <th>years_educ1</th>\n",
              "      <th>years_educ2</th>\n",
              "      <th>years_educ3</th>\n",
              "      <th>years_educ4</th>\n",
              "      <th>years_educ5</th>\n",
              "      <th>years_educ6</th>\n",
              "      <th>years_educ7</th>\n",
              "      <th>years_educ8</th>\n",
              "      <th>hhsize</th>\n",
              "      <th>poverty rate</th>\n",
              "      <th>nkid06</th>\n",
              "      <th>nkid715</th>\n",
              "    </tr>\n",
              "  </thead>\n",
              "  <tbody>\n",
              "    <tr>\n",
              "      <th>0</th>\n",
              "      <td>Achham</td>\n",
              "      <td>0.461668</td>\n",
              "      <td>0.476151</td>\n",
              "      <td>0.080331</td>\n",
              "      <td>0.394979</td>\n",
              "      <td>0.224853</td>\n",
              "      <td>0.145161</td>\n",
              "      <td>0.099263</td>\n",
              "      <td>0.001059</td>\n",
              "      <td>0.050133</td>\n",
              "      <td>0.004221</td>\n",
              "      <td>6.322215</td>\n",
              "      <td>0.472</td>\n",
              "      <td>0.750000</td>\n",
              "      <td>1.166667</td>\n",
              "    </tr>\n",
              "    <tr>\n",
              "      <th>1</th>\n",
              "      <td>Arghakhanchi</td>\n",
              "      <td>0.433736</td>\n",
              "      <td>0.652446</td>\n",
              "      <td>0.039106</td>\n",
              "      <td>0.298637</td>\n",
              "      <td>0.253662</td>\n",
              "      <td>0.189621</td>\n",
              "      <td>0.157736</td>\n",
              "      <td>0.000844</td>\n",
              "      <td>0.057360</td>\n",
              "      <td>0.003033</td>\n",
              "      <td>5.179200</td>\n",
              "      <td>0.288</td>\n",
              "      <td>0.458333</td>\n",
              "      <td>1.020833</td>\n",
              "    </tr>\n",
              "    <tr>\n",
              "      <th>2</th>\n",
              "      <td>Baglung</td>\n",
              "      <td>0.438207</td>\n",
              "      <td>0.647397</td>\n",
              "      <td>0.043599</td>\n",
              "      <td>0.301124</td>\n",
              "      <td>0.239773</td>\n",
              "      <td>0.186960</td>\n",
              "      <td>0.154035</td>\n",
              "      <td>0.000375</td>\n",
              "      <td>0.070341</td>\n",
              "      <td>0.003793</td>\n",
              "      <td>5.378669</td>\n",
              "      <td>0.229</td>\n",
              "      <td>0.716667</td>\n",
              "      <td>1.083333</td>\n",
              "    </tr>\n",
              "    <tr>\n",
              "      <th>3</th>\n",
              "      <td>Baitadi</td>\n",
              "      <td>0.464469</td>\n",
              "      <td>0.548497</td>\n",
              "      <td>0.058514</td>\n",
              "      <td>0.346258</td>\n",
              "      <td>0.259600</td>\n",
              "      <td>0.186120</td>\n",
              "      <td>0.114269</td>\n",
              "      <td>0.000787</td>\n",
              "      <td>0.030814</td>\n",
              "      <td>0.003637</td>\n",
              "      <td>6.748073</td>\n",
              "      <td>0.457</td>\n",
              "      <td>1.133333</td>\n",
              "      <td>1.416667</td>\n",
              "    </tr>\n",
              "    <tr>\n",
              "      <th>4</th>\n",
              "      <td>Bajhang</td>\n",
              "      <td>0.477381</td>\n",
              "      <td>0.488333</td>\n",
              "      <td>0.073606</td>\n",
              "      <td>0.417432</td>\n",
              "      <td>0.219511</td>\n",
              "      <td>0.138940</td>\n",
              "      <td>0.112037</td>\n",
              "      <td>0.000483</td>\n",
              "      <td>0.034308</td>\n",
              "      <td>0.003682</td>\n",
              "      <td>6.945809</td>\n",
              "      <td>0.568</td>\n",
              "      <td>0.777778</td>\n",
              "      <td>1.583333</td>\n",
              "    </tr>\n",
              "  </tbody>\n",
              "</table>\n",
              "</div>"
            ],
            "text/plain": [
              "       district      male  literacy rate  ...  poverty rate    nkid06   nkid715\n",
              "0        Achham  0.461668       0.476151  ...         0.472  0.750000  1.166667\n",
              "1  Arghakhanchi  0.433736       0.652446  ...         0.288  0.458333  1.020833\n",
              "2       Baglung  0.438207       0.647397  ...         0.229  0.716667  1.083333\n",
              "3       Baitadi  0.464469       0.548497  ...         0.457  1.133333  1.416667\n",
              "4       Bajhang  0.477381       0.488333  ...         0.568  0.777778  1.583333\n",
              "\n",
              "[5 rows x 15 columns]"
            ]
          },
          "metadata": {
            "tags": []
          },
          "execution_count": 7
        }
      ]
    },
    {
      "cell_type": "code",
      "metadata": {
        "id": "3blauzLvQg5p",
        "colab_type": "code",
        "outputId": "bf9bf1e1-04b2-46a5-f748-b6dff93ecaf2",
        "colab": {
          "base_uri": "https://localhost:8080/",
          "height": 312
        }
      },
      "source": [
        "plt.scatter(df['literacy rate'],df['poverty rate'])\n",
        "plt.xlabel(\"Literacy Rate\")\n",
        "plt.ylabel(\"Poverty Rate\")\n",
        "plt.title(\"Literacy Rate Vs Poverty Rate in different districts in Nepal\")"
      ],
      "execution_count": 8,
      "outputs": [
        {
          "output_type": "execute_result",
          "data": {
            "text/plain": [
              "Text(0.5, 1.0, 'Literacy Rate Vs Poverty Rate in different districts in Nepal')"
            ]
          },
          "metadata": {
            "tags": []
          },
          "execution_count": 8
        },
        {
          "output_type": "display_data",
          "data": {
            "image/png": "[encoded data removed]",
            "text/plain": [
              "<Figure size 432x288 with 1 Axes>"
            ]
          },
          "metadata": {
            "tags": [],
            "needs_background": "light"
          }
        }
      ]
    },
    {
      "cell_type": "code",
      "metadata": {
        "id": "oq2Uwk9_Rd3G",
        "colab_type": "code",
        "outputId": "50a1ab87-a686-47b6-f688-8400f1efc8ed",
        "colab": {
          "base_uri": "https://localhost:8080/",
          "height": 34
        }
      },
      "source": [
        "df['literacy rate'].corr(df['poverty rate'],method='pearson')"
      ],
      "execution_count": 9,
      "outputs": [
        {
          "output_type": "execute_result",
          "data": {
            "text/plain": [
              "-0.6798893910120695"
            ]
          },
          "metadata": {
            "tags": []
          },
          "execution_count": 9
        }
      ]
    },
    {
      "cell_type": "code",
      "metadata": {
        "id": "s3x2lc6uSKLY",
        "colab_type": "code",
        "outputId": "ef635c76-cf88-4afa-d739-2f55b9753ce1",
        "colab": {
          "base_uri": "https://localhost:8080/",
          "height": 241
        }
      },
      "source": [
        "df.tail()"
      ],
      "execution_count": 10,
      "outputs": [
        {
          "output_type": "execute_result",
          "data": {
            "text/html": [
              "<div>\n",
              "<style scoped>\n",
              "    .dataframe tbody tr th:only-of-type {\n",
              "        vertical-align: middle;\n",
              "    }\n",
              "\n",
              "    .dataframe tbody tr th {\n",
              "        vertical-align: top;\n",
              "    }\n",
              "\n",
              "    .dataframe thead th {\n",
              "        text-align: right;\n",
              "    }\n",
              "</style>\n",
              "<table border=\"1\" class=\"dataframe\">\n",
              "  <thead>\n",
              "    <tr style=\"text-align: right;\">\n",
              "      <th></th>\n",
              "      <th>district</th>\n",
              "      <th>male</th>\n",
              "      <th>literacy rate</th>\n",
              "      <th>years_educ1</th>\n",
              "      <th>years_educ2</th>\n",
              "      <th>years_educ3</th>\n",
              "      <th>years_educ4</th>\n",
              "      <th>years_educ5</th>\n",
              "      <th>years_educ6</th>\n",
              "      <th>years_educ7</th>\n",
              "      <th>years_educ8</th>\n",
              "      <th>hhsize</th>\n",
              "      <th>poverty rate</th>\n",
              "      <th>nkid06</th>\n",
              "      <th>nkid715</th>\n",
              "    </tr>\n",
              "  </thead>\n",
              "  <tbody>\n",
              "    <tr>\n",
              "      <th>66</th>\n",
              "      <td>Syangja</td>\n",
              "      <td>0.428499</td>\n",
              "      <td>0.696740</td>\n",
              "      <td>0.024426</td>\n",
              "      <td>0.233124</td>\n",
              "      <td>0.248407</td>\n",
              "      <td>0.250872</td>\n",
              "      <td>0.179026</td>\n",
              "      <td>0.000864</td>\n",
              "      <td>0.060832</td>\n",
              "      <td>0.002448</td>\n",
              "      <td>5.298789</td>\n",
              "      <td>0.118</td>\n",
              "      <td>0.535714</td>\n",
              "      <td>0.869048</td>\n",
              "    </tr>\n",
              "    <tr>\n",
              "      <th>67</th>\n",
              "      <td>Tanahu</td>\n",
              "      <td>0.437649</td>\n",
              "      <td>0.680704</td>\n",
              "      <td>0.035329</td>\n",
              "      <td>0.288172</td>\n",
              "      <td>0.265870</td>\n",
              "      <td>0.197444</td>\n",
              "      <td>0.146315</td>\n",
              "      <td>0.000844</td>\n",
              "      <td>0.061717</td>\n",
              "      <td>0.004310</td>\n",
              "      <td>5.192645</td>\n",
              "      <td>0.148</td>\n",
              "      <td>0.488095</td>\n",
              "      <td>1.107143</td>\n",
              "    </tr>\n",
              "    <tr>\n",
              "      <th>68</th>\n",
              "      <td>Taplejung</td>\n",
              "      <td>0.468741</td>\n",
              "      <td>0.639603</td>\n",
              "      <td>0.043544</td>\n",
              "      <td>0.314855</td>\n",
              "      <td>0.265353</td>\n",
              "      <td>0.196421</td>\n",
              "      <td>0.146136</td>\n",
              "      <td>0.000000</td>\n",
              "      <td>0.029723</td>\n",
              "      <td>0.003968</td>\n",
              "      <td>5.778622</td>\n",
              "      <td>0.270</td>\n",
              "      <td>1.166667</td>\n",
              "      <td>2.000000</td>\n",
              "    </tr>\n",
              "    <tr>\n",
              "      <th>69</th>\n",
              "      <td>Terhathum</td>\n",
              "      <td>0.463171</td>\n",
              "      <td>0.674394</td>\n",
              "      <td>0.024923</td>\n",
              "      <td>0.252844</td>\n",
              "      <td>0.243664</td>\n",
              "      <td>0.219448</td>\n",
              "      <td>0.211871</td>\n",
              "      <td>0.000688</td>\n",
              "      <td>0.045298</td>\n",
              "      <td>0.001265</td>\n",
              "      <td>5.536696</td>\n",
              "      <td>0.146</td>\n",
              "      <td>0.750000</td>\n",
              "      <td>1.541667</td>\n",
              "    </tr>\n",
              "    <tr>\n",
              "      <th>70</th>\n",
              "      <td>Udayapur</td>\n",
              "      <td>0.467240</td>\n",
              "      <td>0.614868</td>\n",
              "      <td>0.040798</td>\n",
              "      <td>0.290338</td>\n",
              "      <td>0.266224</td>\n",
              "      <td>0.183295</td>\n",
              "      <td>0.166718</td>\n",
              "      <td>0.000645</td>\n",
              "      <td>0.049024</td>\n",
              "      <td>0.002957</td>\n",
              "      <td>5.780472</td>\n",
              "      <td>0.259</td>\n",
              "      <td>0.791667</td>\n",
              "      <td>1.305556</td>\n",
              "    </tr>\n",
              "  </tbody>\n",
              "</table>\n",
              "</div>"
            ],
            "text/plain": [
              "     district      male  literacy rate  ...  poverty rate    nkid06   nkid715\n",
              "66    Syangja  0.428499       0.696740  ...         0.118  0.535714  0.869048\n",
              "67     Tanahu  0.437649       0.680704  ...         0.148  0.488095  1.107143\n",
              "68  Taplejung  0.468741       0.639603  ...         0.270  1.166667  2.000000\n",
              "69  Terhathum  0.463171       0.674394  ...         0.146  0.750000  1.541667\n",
              "70   Udayapur  0.467240       0.614868  ...         0.259  0.791667  1.305556\n",
              "\n",
              "[5 rows x 15 columns]"
            ]
          },
          "metadata": {
            "tags": []
          },
          "execution_count": 10
        }
      ]
    },
    {
      "cell_type": "code",
      "metadata": {
        "id": "6Gc1spxaSlJ5",
        "colab_type": "code",
        "colab": {}
      },
      "source": [
        "df_2d=df[1:-1]"
      ],
      "execution_count": 0,
      "outputs": []
    },
    {
      "cell_type": "code",
      "metadata": {
        "id": "c59a8JJfS5Eh",
        "colab_type": "code",
        "outputId": "7603d551-de28-4672-9973-8af8a8bea10b",
        "colab": {
          "base_uri": "https://localhost:8080/",
          "height": 34
        }
      },
      "source": [
        "df_2d.shape"
      ],
      "execution_count": 12,
      "outputs": [
        {
          "output_type": "execute_result",
          "data": {
            "text/plain": [
              "(69, 15)"
            ]
          },
          "metadata": {
            "tags": []
          },
          "execution_count": 12
        }
      ]
    },
    {
      "cell_type": "code",
      "metadata": {
        "id": "zFoQnSivS93y",
        "colab_type": "code",
        "colab": {}
      },
      "source": [
        "model=LinearRegression()"
      ],
      "execution_count": 0,
      "outputs": []
    },
    {
      "cell_type": "code",
      "metadata": {
        "id": "kc8_5E2yfebA",
        "colab_type": "code",
        "outputId": "238c43ed-e51b-41dc-e7e9-ba326c032304",
        "colab": {
          "base_uri": "https://localhost:8080/",
          "height": 34
        }
      },
      "source": [
        "model.fit(df_2d[['literacy rate']],df_2d[['poverty rate']])"
      ],
      "execution_count": 14,
      "outputs": [
        {
          "output_type": "execute_result",
          "data": {
            "text/plain": [
              "LinearRegression(copy_X=True, fit_intercept=True, n_jobs=None, normalize=False)"
            ]
          },
          "metadata": {
            "tags": []
          },
          "execution_count": 14
        }
      ]
    },
    {
      "cell_type": "code",
      "metadata": {
        "id": "u9T9ZC3AftTe",
        "colab_type": "code",
        "colab": {}
      },
      "source": [
        "predictions=model.predict(df_2d[['literacy rate']])"
      ],
      "execution_count": 0,
      "outputs": []
    },
    {
      "cell_type": "code",
      "metadata": {
        "id": "caDrpw8jgO5O",
        "colab_type": "code",
        "outputId": "1c5d8b8e-92c7-415a-a3d0-9a6c9082dbf5",
        "colab": {
          "base_uri": "https://localhost:8080/",
          "height": 139
        }
      },
      "source": [
        "df_2d['prediction']=predictions"
      ],
      "execution_count": 16,
      "outputs": [
        {
          "output_type": "stream",
          "text": [
            "/usr/local/lib/python3.6/dist-packages/ipykernel_launcher.py:1: SettingWithCopyWarning: \n",
            "A value is trying to be set on a copy of a slice from a DataFrame.\n",
            "Try using .loc[row_indexer,col_indexer] = value instead\n",
            "\n",
            "See the caveats in the documentation: https://pandas.pydata.org/pandas-docs/stable/user_guide/indexing.html#returning-a-view-versus-a-copy\n",
            "  \"\"\"Entry point for launching an IPython kernel.\n"
          ],
          "name": "stderr"
        }
      ]
    },
    {
      "cell_type": "code",
      "metadata": {
        "id": "O8zL69eKgXnm",
        "colab_type": "code",
        "outputId": "4c9b6afe-a9c7-48ee-f808-0b2e80b78795",
        "colab": {
          "base_uri": "https://localhost:8080/",
          "height": 241
        }
      },
      "source": [
        "df_2d.head()"
      ],
      "execution_count": 17,
      "outputs": [
        {
          "output_type": "execute_result",
          "data": {
            "text/html": [
              "<div>\n",
              "<style scoped>\n",
              "    .dataframe tbody tr th:only-of-type {\n",
              "        vertical-align: middle;\n",
              "    }\n",
              "\n",
              "    .dataframe tbody tr th {\n",
              "        vertical-align: top;\n",
              "    }\n",
              "\n",
              "    .dataframe thead th {\n",
              "        text-align: right;\n",
              "    }\n",
              "</style>\n",
              "<table border=\"1\" class=\"dataframe\">\n",
              "  <thead>\n",
              "    <tr style=\"text-align: right;\">\n",
              "      <th></th>\n",
              "      <th>district</th>\n",
              "      <th>male</th>\n",
              "      <th>literacy rate</th>\n",
              "      <th>years_educ1</th>\n",
              "      <th>years_educ2</th>\n",
              "      <th>years_educ3</th>\n",
              "      <th>years_educ4</th>\n",
              "      <th>years_educ5</th>\n",
              "      <th>years_educ6</th>\n",
              "      <th>years_educ7</th>\n",
              "      <th>years_educ8</th>\n",
              "      <th>hhsize</th>\n",
              "      <th>poverty rate</th>\n",
              "      <th>nkid06</th>\n",
              "      <th>nkid715</th>\n",
              "      <th>prediction</th>\n",
              "    </tr>\n",
              "  </thead>\n",
              "  <tbody>\n",
              "    <tr>\n",
              "      <th>1</th>\n",
              "      <td>Arghakhanchi</td>\n",
              "      <td>0.433736</td>\n",
              "      <td>0.652446</td>\n",
              "      <td>0.039106</td>\n",
              "      <td>0.298637</td>\n",
              "      <td>0.253662</td>\n",
              "      <td>0.189621</td>\n",
              "      <td>0.157736</td>\n",
              "      <td>0.000844</td>\n",
              "      <td>0.057360</td>\n",
              "      <td>0.003033</td>\n",
              "      <td>5.179200</td>\n",
              "      <td>0.288</td>\n",
              "      <td>0.458333</td>\n",
              "      <td>1.020833</td>\n",
              "      <td>0.204699</td>\n",
              "    </tr>\n",
              "    <tr>\n",
              "      <th>2</th>\n",
              "      <td>Baglung</td>\n",
              "      <td>0.438207</td>\n",
              "      <td>0.647397</td>\n",
              "      <td>0.043599</td>\n",
              "      <td>0.301124</td>\n",
              "      <td>0.239773</td>\n",
              "      <td>0.186960</td>\n",
              "      <td>0.154035</td>\n",
              "      <td>0.000375</td>\n",
              "      <td>0.070341</td>\n",
              "      <td>0.003793</td>\n",
              "      <td>5.378669</td>\n",
              "      <td>0.229</td>\n",
              "      <td>0.716667</td>\n",
              "      <td>1.083333</td>\n",
              "      <td>0.209476</td>\n",
              "    </tr>\n",
              "    <tr>\n",
              "      <th>3</th>\n",
              "      <td>Baitadi</td>\n",
              "      <td>0.464469</td>\n",
              "      <td>0.548497</td>\n",
              "      <td>0.058514</td>\n",
              "      <td>0.346258</td>\n",
              "      <td>0.259600</td>\n",
              "      <td>0.186120</td>\n",
              "      <td>0.114269</td>\n",
              "      <td>0.000787</td>\n",
              "      <td>0.030814</td>\n",
              "      <td>0.003637</td>\n",
              "      <td>6.748073</td>\n",
              "      <td>0.457</td>\n",
              "      <td>1.133333</td>\n",
              "      <td>1.416667</td>\n",
              "      <td>0.303067</td>\n",
              "    </tr>\n",
              "    <tr>\n",
              "      <th>4</th>\n",
              "      <td>Bajhang</td>\n",
              "      <td>0.477381</td>\n",
              "      <td>0.488333</td>\n",
              "      <td>0.073606</td>\n",
              "      <td>0.417432</td>\n",
              "      <td>0.219511</td>\n",
              "      <td>0.138940</td>\n",
              "      <td>0.112037</td>\n",
              "      <td>0.000483</td>\n",
              "      <td>0.034308</td>\n",
              "      <td>0.003682</td>\n",
              "      <td>6.945809</td>\n",
              "      <td>0.568</td>\n",
              "      <td>0.777778</td>\n",
              "      <td>1.583333</td>\n",
              "      <td>0.360001</td>\n",
              "    </tr>\n",
              "    <tr>\n",
              "      <th>5</th>\n",
              "      <td>Bajura</td>\n",
              "      <td>0.485493</td>\n",
              "      <td>0.474538</td>\n",
              "      <td>0.093973</td>\n",
              "      <td>0.417503</td>\n",
              "      <td>0.233429</td>\n",
              "      <td>0.136786</td>\n",
              "      <td>0.093656</td>\n",
              "      <td>0.001517</td>\n",
              "      <td>0.019391</td>\n",
              "      <td>0.003744</td>\n",
              "      <td>6.564752</td>\n",
              "      <td>0.641</td>\n",
              "      <td>0.875000</td>\n",
              "      <td>1.166667</td>\n",
              "      <td>0.373055</td>\n",
              "    </tr>\n",
              "  </tbody>\n",
              "</table>\n",
              "</div>"
            ],
            "text/plain": [
              "       district      male  literacy rate  ...    nkid06   nkid715  prediction\n",
              "1  Arghakhanchi  0.433736       0.652446  ...  0.458333  1.020833    0.204699\n",
              "2       Baglung  0.438207       0.647397  ...  0.716667  1.083333    0.209476\n",
              "3       Baitadi  0.464469       0.548497  ...  1.133333  1.416667    0.303067\n",
              "4       Bajhang  0.477381       0.488333  ...  0.777778  1.583333    0.360001\n",
              "5        Bajura  0.485493       0.474538  ...  0.875000  1.166667    0.373055\n",
              "\n",
              "[5 rows x 16 columns]"
            ]
          },
          "metadata": {
            "tags": []
          },
          "execution_count": 17
        }
      ]
    },
    {
      "cell_type": "code",
      "metadata": {
        "id": "tMnlJtYfgfZS",
        "colab_type": "code",
        "outputId": "7e60f103-a6c6-42e1-cce7-56a2f7d5bc7a",
        "colab": {
          "base_uri": "https://localhost:8080/",
          "height": 296
        }
      },
      "source": [
        "sns.lineplot(x='literacy rate', y='prediction',data=df_2d,color='red')\n",
        "sns.scatterplot(x='literacy rate',y='poverty rate',data=df_2d)"
      ],
      "execution_count": 18,
      "outputs": [
        {
          "output_type": "execute_result",
          "data": {
            "text/plain": [
              "<matplotlib.axes._subplots.AxesSubplot at 0x7ff86eb7fdd8>"
            ]
          },
          "metadata": {
            "tags": []
          },
          "execution_count": 18
        },
        {
          "output_type": "display_data",
          "data": {
            "image/png": "[encoded data removed]",
            "text/plain": [
              "<Figure size 432x288 with 1 Axes>"
            ]
          },
          "metadata": {
            "tags": [],
            "needs_background": "light"
          }
        }
      ]
    },
    {
      "cell_type": "code",
      "metadata": {
        "id": "G6tYqTM4h77o",
        "colab_type": "code",
        "outputId": "3c6524f2-d69b-44ab-a390-7989ee40314f",
        "colab": {
          "base_uri": "https://localhost:8080/",
          "height": 51
        }
      },
      "source": [
        "b=model.intercept_[0]\n",
        "print(b)\n",
        "m=model.coef_[0][0]\n",
        "print(m)"
      ],
      "execution_count": 19,
      "outputs": [
        {
          "output_type": "stream",
          "text": [
            "0.8221182820384326\n",
            "-0.946315665100361\n"
          ],
          "name": "stdout"
        }
      ]
    },
    {
      "cell_type": "code",
      "metadata": {
        "id": "riR3zK7xjC1R",
        "colab_type": "code",
        "outputId": "56f772b7-13eb-4a7c-8507-f470f73b7d86",
        "colab": {
          "base_uri": "https://localhost:8080/",
          "height": 34
        }
      },
      "source": [
        "#poverty rate for aaccham\n",
        "round(m*0.472+b,3\t) "
      ],
      "execution_count": 20,
      "outputs": [
        {
          "output_type": "execute_result",
          "data": {
            "text/plain": [
              "0.375"
            ]
          },
          "metadata": {
            "tags": []
          },
          "execution_count": 20
        }
      ]
    },
    {
      "cell_type": "code",
      "metadata": {
        "id": "Gi-3-yaujTpv",
        "colab_type": "code",
        "outputId": "51d12364-1c40-42b1-e993-282c73b4da14",
        "colab": {
          "base_uri": "https://localhost:8080/",
          "height": 34
        }
      },
      "source": [
        "#for udaypur\n",
        "round(m*0.259+b,3)"
      ],
      "execution_count": 21,
      "outputs": [
        {
          "output_type": "execute_result",
          "data": {
            "text/plain": [
              "0.577"
            ]
          },
          "metadata": {
            "tags": []
          },
          "execution_count": 21
        }
      ]
    },
    {
      "cell_type": "code",
      "metadata": {
        "id": "3TJtd3hjj9vF",
        "colab_type": "code",
        "colab": {}
      },
      "source": [
        "#predict poverty rate given the household size,nkid06,nkid715,literacy rate\n",
        "df_predict=df[['hhsize','literacy rate','nkid06','nkid715','district']]\n",
        "df_y=df[['poverty rate']]"
      ],
      "execution_count": 0,
      "outputs": []
    },
    {
      "cell_type": "code",
      "metadata": {
        "id": "fm2LtAvdlXUB",
        "colab_type": "code",
        "colab": {
          "base_uri": "https://localhost:8080/",
          "height": 34
        },
        "outputId": "0dd25cc6-b841-4cf7-82a0-355179a6571e"
      },
      "source": [
        "df_predict.shape"
      ],
      "execution_count": 23,
      "outputs": [
        {
          "output_type": "execute_result",
          "data": {
            "text/plain": [
              "(71, 5)"
            ]
          },
          "metadata": {
            "tags": []
          },
          "execution_count": 23
        }
      ]
    },
    {
      "cell_type": "code",
      "metadata": {
        "id": "I2fZes-zUYQz",
        "colab_type": "code",
        "colab": {
          "base_uri": "https://localhost:8080/",
          "height": 122
        },
        "outputId": "d0721832-3f3f-4e79-f7a0-68995835883d"
      },
      "source": [
        "df_predict.dropna(inplace=True)"
      ],
      "execution_count": 26,
      "outputs": [
        {
          "output_type": "stream",
          "text": [
            "/usr/local/lib/python3.6/dist-packages/ipykernel_launcher.py:1: SettingWithCopyWarning: \n",
            "A value is trying to be set on a copy of a slice from a DataFrame\n",
            "\n",
            "See the caveats in the documentation: https://pandas.pydata.org/pandas-docs/stable/user_guide/indexing.html#returning-a-view-versus-a-copy\n",
            "  \"\"\"Entry point for launching an IPython kernel.\n"
          ],
          "name": "stderr"
        }
      ]
    },
    {
      "cell_type": "code",
      "metadata": {
        "id": "6SbKBG2xUotE",
        "colab_type": "code",
        "colab": {
          "base_uri": "https://localhost:8080/",
          "height": 119
        },
        "outputId": "27cbe1b1-af69-4335-a03a-22cf9d04ee86"
      },
      "source": [
        "df_predict.isnull().any()"
      ],
      "execution_count": 27,
      "outputs": [
        {
          "output_type": "execute_result",
          "data": {
            "text/plain": [
              "hhsize           False\n",
              "literacy rate    False\n",
              "nkid06           False\n",
              "nkid715          False\n",
              "district         False\n",
              "dtype: bool"
            ]
          },
          "metadata": {
            "tags": []
          },
          "execution_count": 27
        }
      ]
    },
    {
      "cell_type": "code",
      "metadata": {
        "id": "d02kMwy4VKj7",
        "colab_type": "code",
        "colab": {
          "base_uri": "https://localhost:8080/",
          "height": 122
        },
        "outputId": "0a085673-4a25-4da5-e981-114217b3b177"
      },
      "source": [
        "df_predict.drop(columns=['district'],inplace=True)"
      ],
      "execution_count": 29,
      "outputs": [
        {
          "output_type": "stream",
          "text": [
            "/usr/local/lib/python3.6/dist-packages/pandas/core/frame.py:3997: SettingWithCopyWarning: \n",
            "A value is trying to be set on a copy of a slice from a DataFrame\n",
            "\n",
            "See the caveats in the documentation: https://pandas.pydata.org/pandas-docs/stable/user_guide/indexing.html#returning-a-view-versus-a-copy\n",
            "  errors=errors,\n"
          ],
          "name": "stderr"
        }
      ]
    },
    {
      "cell_type": "code",
      "metadata": {
        "id": "oaLKcDV6VaBa",
        "colab_type": "code",
        "colab": {}
      },
      "source": [
        "X_train,X_test,y_train,y_test=train_test_split(df_predict,df_y,test_size=0.20,random_state=42)\n"
      ],
      "execution_count": 0,
      "outputs": []
    },
    {
      "cell_type": "code",
      "metadata": {
        "id": "qWGyZxqcWyLB",
        "colab_type": "code",
        "colab": {
          "base_uri": "https://localhost:8080/",
          "height": 34
        },
        "outputId": "1f4c8f4d-6a12-476a-9dbf-eefd544bbe5f"
      },
      "source": [
        "X_train.shape,X_test.shape,y_train.shape,y_test.shape"
      ],
      "execution_count": 31,
      "outputs": [
        {
          "output_type": "execute_result",
          "data": {
            "text/plain": [
              "((56, 4), (15, 4), (56, 1), (15, 1))"
            ]
          },
          "metadata": {
            "tags": []
          },
          "execution_count": 31
        }
      ]
    },
    {
      "cell_type": "code",
      "metadata": {
        "id": "ABPKfZFJW7OQ",
        "colab_type": "code",
        "colab": {}
      },
      "source": [
        "model=LinearRegression()"
      ],
      "execution_count": 0,
      "outputs": []
    },
    {
      "cell_type": "code",
      "metadata": {
        "id": "OF050ltYXE2E",
        "colab_type": "code",
        "colab": {
          "base_uri": "https://localhost:8080/",
          "height": 34
        },
        "outputId": "180e37e1-b35f-46ed-dd26-11958e96cff7"
      },
      "source": [
        "model.fit(X_train,y_train)"
      ],
      "execution_count": 33,
      "outputs": [
        {
          "output_type": "execute_result",
          "data": {
            "text/plain": [
              "LinearRegression(copy_X=True, fit_intercept=True, n_jobs=None, normalize=False)"
            ]
          },
          "metadata": {
            "tags": []
          },
          "execution_count": 33
        }
      ]
    },
    {
      "cell_type": "code",
      "metadata": {
        "id": "8ALK8oIdXJZG",
        "colab_type": "code",
        "colab": {}
      },
      "source": [
        "predictions=model.predict(X_test)"
      ],
      "execution_count": 0,
      "outputs": []
    },
    {
      "cell_type": "code",
      "metadata": {
        "id": "B6vbShCgXTHs",
        "colab_type": "code",
        "colab": {}
      },
      "source": [
        "df_compare=X_test.reset_index(drop=True)"
      ],
      "execution_count": 0,
      "outputs": []
    },
    {
      "cell_type": "code",
      "metadata": {
        "id": "36gj-FVkX1Wd",
        "colab_type": "code",
        "colab": {}
      },
      "source": [
        "df_compare['Actual']=y_test.values"
      ],
      "execution_count": 0,
      "outputs": []
    },
    {
      "cell_type": "code",
      "metadata": {
        "id": "aIYJB8zmYEBA",
        "colab_type": "code",
        "colab": {}
      },
      "source": [
        "df_compare['Predicted']=predictions\n",
        "df_compare.drop(columns=['Prediction'],inplace=True)"
      ],
      "execution_count": 0,
      "outputs": []
    },
    {
      "cell_type": "code",
      "metadata": {
        "id": "wRr7rz_lYJLP",
        "colab_type": "code",
        "colab": {
          "base_uri": "https://localhost:8080/",
          "height": 204
        },
        "outputId": "8b026612-04b3-4544-c2d6-c3927d1bc9c1"
      },
      "source": [
        "df_compare.head()"
      ],
      "execution_count": 45,
      "outputs": [
        {
          "output_type": "execute_result",
          "data": {
            "text/html": [
              "<div>\n",
              "<style scoped>\n",
              "    .dataframe tbody tr th:only-of-type {\n",
              "        vertical-align: middle;\n",
              "    }\n",
              "\n",
              "    .dataframe tbody tr th {\n",
              "        vertical-align: top;\n",
              "    }\n",
              "\n",
              "    .dataframe thead th {\n",
              "        text-align: right;\n",
              "    }\n",
              "</style>\n",
              "<table border=\"1\" class=\"dataframe\">\n",
              "  <thead>\n",
              "    <tr style=\"text-align: right;\">\n",
              "      <th></th>\n",
              "      <th>hhsize</th>\n",
              "      <th>literacy rate</th>\n",
              "      <th>nkid06</th>\n",
              "      <th>nkid715</th>\n",
              "      <th>Actual</th>\n",
              "      <th>Predicted</th>\n",
              "    </tr>\n",
              "  </thead>\n",
              "  <tbody>\n",
              "    <tr>\n",
              "      <th>0</th>\n",
              "      <td>5.236356</td>\n",
              "      <td>0.654978</td>\n",
              "      <td>0.700000</td>\n",
              "      <td>1.083333</td>\n",
              "      <td>0.256</td>\n",
              "      <td>0.213130</td>\n",
              "    </tr>\n",
              "    <tr>\n",
              "      <th>1</th>\n",
              "      <td>6.322215</td>\n",
              "      <td>0.476151</td>\n",
              "      <td>0.750000</td>\n",
              "      <td>1.166667</td>\n",
              "      <td>0.472</td>\n",
              "      <td>0.297400</td>\n",
              "    </tr>\n",
              "    <tr>\n",
              "      <th>2</th>\n",
              "      <td>5.813340</td>\n",
              "      <td>0.584571</td>\n",
              "      <td>1.166667</td>\n",
              "      <td>1.812500</td>\n",
              "      <td>0.322</td>\n",
              "      <td>0.363464</td>\n",
              "    </tr>\n",
              "    <tr>\n",
              "      <th>3</th>\n",
              "      <td>6.945809</td>\n",
              "      <td>0.488333</td>\n",
              "      <td>0.777778</td>\n",
              "      <td>1.583333</td>\n",
              "      <td>0.568</td>\n",
              "      <td>0.328710</td>\n",
              "    </tr>\n",
              "    <tr>\n",
              "      <th>4</th>\n",
              "      <td>7.264983</td>\n",
              "      <td>0.631131</td>\n",
              "      <td>0.744444</td>\n",
              "      <td>1.283333</td>\n",
              "      <td>0.173</td>\n",
              "      <td>0.224538</td>\n",
              "    </tr>\n",
              "  </tbody>\n",
              "</table>\n",
              "</div>"
            ],
            "text/plain": [
              "     hhsize  literacy rate    nkid06   nkid715  Actual  Predicted\n",
              "0  5.236356       0.654978  0.700000  1.083333   0.256   0.213130\n",
              "1  6.322215       0.476151  0.750000  1.166667   0.472   0.297400\n",
              "2  5.813340       0.584571  1.166667  1.812500   0.322   0.363464\n",
              "3  6.945809       0.488333  0.777778  1.583333   0.568   0.328710\n",
              "4  7.264983       0.631131  0.744444  1.283333   0.173   0.224538"
            ]
          },
          "metadata": {
            "tags": []
          },
          "execution_count": 45
        }
      ]
    },
    {
      "cell_type": "code",
      "metadata": {
        "id": "j7_sHF5IYNAp",
        "colab_type": "code",
        "colab": {
          "base_uri": "https://localhost:8080/",
          "height": 238
        },
        "outputId": "bc3b1e27-a21c-4e1c-9620-463b9f982393"
      },
      "source": [
        "df_compare.info()"
      ],
      "execution_count": 46,
      "outputs": [
        {
          "output_type": "stream",
          "text": [
            "<class 'pandas.core.frame.DataFrame'>\n",
            "RangeIndex: 15 entries, 0 to 14\n",
            "Data columns (total 6 columns):\n",
            " #   Column         Non-Null Count  Dtype  \n",
            "---  ------         --------------  -----  \n",
            " 0   hhsize         15 non-null     float64\n",
            " 1   literacy rate  15 non-null     float64\n",
            " 2   nkid06         15 non-null     float64\n",
            " 3   nkid715        15 non-null     float64\n",
            " 4   Actual         15 non-null     float64\n",
            " 5   Predicted      15 non-null     float64\n",
            "dtypes: float64(6)\n",
            "memory usage: 848.0 bytes\n"
          ],
          "name": "stdout"
        }
      ]
    },
    {
      "cell_type": "code",
      "metadata": {
        "id": "uW6N5sJCYwyK",
        "colab_type": "code",
        "colab": {
          "base_uri": "https://localhost:8080/",
          "height": 296
        },
        "outputId": "9c331286-68b7-4a3e-c36c-edb5ae7a494c"
      },
      "source": [
        "sns.scatterplot(x='Actual',y='Predicted',data=df_compare)"
      ],
      "execution_count": 47,
      "outputs": [
        {
          "output_type": "execute_result",
          "data": {
            "text/plain": [
              "<matplotlib.axes._subplots.AxesSubplot at 0x7ff86e5b69e8>"
            ]
          },
          "metadata": {
            "tags": []
          },
          "execution_count": 47
        },
        {
          "output_type": "display_data",
          "data": {
            "image/png": "[encoded data removed]",
            "text/plain": [
              "<Figure size 432x288 with 1 Axes>"
            ]
          },
          "metadata": {
            "tags": [],
            "needs_background": "light"
          }
        }
      ]
    },
    {
      "cell_type": "code",
      "metadata": {
        "id": "zgeMKexeZgqU",
        "colab_type": "code",
        "colab": {}
      },
      "source": [
        "df_compare['Residuals']=df_compare['Actual']-df_compare['Predicted']"
      ],
      "execution_count": 0,
      "outputs": []
    },
    {
      "cell_type": "code",
      "metadata": {
        "id": "G285fHV1Zz-b",
        "colab_type": "code",
        "colab": {
          "base_uri": "https://localhost:8080/",
          "height": 296
        },
        "outputId": "786634c7-396a-4ff9-e8fd-e4230bc86aa5"
      },
      "source": [
        "sns.scatterplot(x='Predicted',y='Residuals',data=df_compare)"
      ],
      "execution_count": 49,
      "outputs": [
        {
          "output_type": "execute_result",
          "data": {
            "text/plain": [
              "<matplotlib.axes._subplots.AxesSubplot at 0x7ff86cd19fd0>"
            ]
          },
          "metadata": {
            "tags": []
          },
          "execution_count": 49
        },
        {
          "output_type": "display_data",
          "data": {
            "image/png": "[encoded data removed]",
            "text/plain": [
              "<Figure size 432x288 with 1 Axes>"
            ]
          },
          "metadata": {
            "tags": [],
            "needs_background": "light"
          }
        }
      ]
    },
    {
      "cell_type": "code",
      "metadata": {
        "id": "lI3r0vZ6Z_OI",
        "colab_type": "code",
        "colab": {}
      },
      "source": [
        ""
      ],
      "execution_count": 0,
      "outputs": []
    }
  ]
}